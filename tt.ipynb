{
 "cells": [
  {
   "cell_type": "code",
   "execution_count": 1,
   "outputs": [
    {
     "name": "stdout",
     "output_type": "stream",
     "text": [
      "Collecting gigachat\r\n",
      "  Obtaining dependency information for gigachat from https://files.pythonhosted.org/packages/68/63/8b74e70b7b9496dc72b4f551b0ee12aacaa2a871a1d6cf60830a2e0df78f/gigachat-0.1.39.post1-py3-none-any.whl.metadata\r\n",
      "  Downloading gigachat-0.1.39.post1-py3-none-any.whl.metadata (14 kB)\r\n",
      "Requirement already satisfied: httpx<1 in ./venv/lib/python3.9/site-packages (from gigachat) (0.28.1)\r\n",
      "Collecting pydantic>=1 (from gigachat)\r\n",
      "  Obtaining dependency information for pydantic>=1 from https://files.pythonhosted.org/packages/b0/1d/407b29780a289868ed696d1616f4aad49d6388e5a77f567dcd2629dcd7b8/pydantic-2.11.3-py3-none-any.whl.metadata\r\n",
      "  Downloading pydantic-2.11.3-py3-none-any.whl.metadata (65 kB)\r\n",
      "\u001B[2K     \u001B[90m━━━━━━━━━━━━━━━━━━━━━━━━━━━━━━━━━━━━━━━\u001B[0m \u001B[32m65.2/65.2 kB\u001B[0m \u001B[31m614.5 kB/s\u001B[0m eta \u001B[36m0:00:00\u001B[0ma \u001B[36m0:00:01\u001B[0m\r\n",
      "\u001B[?25hRequirement already satisfied: anyio in ./venv/lib/python3.9/site-packages (from httpx<1->gigachat) (4.9.0)\r\n",
      "Requirement already satisfied: certifi in ./venv/lib/python3.9/site-packages (from httpx<1->gigachat) (2025.1.31)\r\n",
      "Requirement already satisfied: httpcore==1.* in ./venv/lib/python3.9/site-packages (from httpx<1->gigachat) (1.0.8)\r\n",
      "Requirement already satisfied: idna in ./venv/lib/python3.9/site-packages (from httpx<1->gigachat) (3.10)\r\n",
      "Requirement already satisfied: h11<0.15,>=0.13 in ./venv/lib/python3.9/site-packages (from httpcore==1.*->httpx<1->gigachat) (0.14.0)\r\n",
      "Collecting annotated-types>=0.6.0 (from pydantic>=1->gigachat)\r\n",
      "  Obtaining dependency information for annotated-types>=0.6.0 from https://files.pythonhosted.org/packages/78/b6/6307fbef88d9b5ee7421e68d78a9f162e0da4900bc5f5793f6d3d0e34fb8/annotated_types-0.7.0-py3-none-any.whl.metadata\r\n",
      "  Using cached annotated_types-0.7.0-py3-none-any.whl.metadata (15 kB)\r\n",
      "Collecting pydantic-core==2.33.1 (from pydantic>=1->gigachat)\r\n",
      "  Obtaining dependency information for pydantic-core==2.33.1 from https://files.pythonhosted.org/packages/3b/00/a02531331773b2bf08743d84c6b776bd6a449d23b3ae6b0e3229d568bac4/pydantic_core-2.33.1-cp39-cp39-macosx_11_0_arm64.whl.metadata\r\n",
      "  Downloading pydantic_core-2.33.1-cp39-cp39-macosx_11_0_arm64.whl.metadata (6.8 kB)\r\n",
      "Requirement already satisfied: typing-extensions>=4.12.2 in ./venv/lib/python3.9/site-packages (from pydantic>=1->gigachat) (4.13.2)\r\n",
      "Collecting typing-inspection>=0.4.0 (from pydantic>=1->gigachat)\r\n",
      "  Obtaining dependency information for typing-inspection>=0.4.0 from https://files.pythonhosted.org/packages/31/08/aa4fdfb71f7de5176385bd9e90852eaf6b5d622735020ad600f2bab54385/typing_inspection-0.4.0-py3-none-any.whl.metadata\r\n",
      "  Downloading typing_inspection-0.4.0-py3-none-any.whl.metadata (2.6 kB)\r\n",
      "Requirement already satisfied: exceptiongroup>=1.0.2 in ./venv/lib/python3.9/site-packages (from anyio->httpx<1->gigachat) (1.2.2)\r\n",
      "Requirement already satisfied: sniffio>=1.1 in ./venv/lib/python3.9/site-packages (from anyio->httpx<1->gigachat) (1.3.1)\r\n",
      "Downloading gigachat-0.1.39.post1-py3-none-any.whl (67 kB)\r\n",
      "\u001B[2K   \u001B[90m━━━━━━━━━━━━━━━━━━━━━━━━━━━━━━━━━━━━━━━━\u001B[0m \u001B[32m67.3/67.3 kB\u001B[0m \u001B[31m1.5 MB/s\u001B[0m eta \u001B[36m0:00:00\u001B[0ma \u001B[36m0:00:01\u001B[0m\r\n",
      "\u001B[?25hDownloading pydantic-2.11.3-py3-none-any.whl (443 kB)\r\n",
      "\u001B[2K   \u001B[90m━━━━━━━━━━━━━━━━━━━━━━━━━━━━━━━━━━━━━━━━\u001B[0m \u001B[32m443.6/443.6 kB\u001B[0m \u001B[31m1.1 MB/s\u001B[0m eta \u001B[36m0:00:00\u001B[0m00:01\u001B[0m00:01\u001B[0m\r\n",
      "\u001B[?25hDownloading pydantic_core-2.33.1-cp39-cp39-macosx_11_0_arm64.whl (1.9 MB)\r\n",
      "\u001B[2K   \u001B[90m━━━━━━━━━━━━━━━━━━━━━━━━━━━━━━━━━━━━━━━━\u001B[0m \u001B[32m1.9/1.9 MB\u001B[0m \u001B[31m1.2 MB/s\u001B[0m eta \u001B[36m0:00:00\u001B[0m00:01\u001B[0m00:01\u001B[0m\r\n",
      "\u001B[?25hUsing cached annotated_types-0.7.0-py3-none-any.whl (13 kB)\r\n",
      "Downloading typing_inspection-0.4.0-py3-none-any.whl (14 kB)\r\n",
      "Installing collected packages: typing-inspection, pydantic-core, annotated-types, pydantic, gigachat\r\n",
      "Successfully installed annotated-types-0.7.0 gigachat-0.1.39.post1 pydantic-2.11.3 pydantic-core-2.33.1 typing-inspection-0.4.0\r\n",
      "\r\n",
      "\u001B[1m[\u001B[0m\u001B[34;49mnotice\u001B[0m\u001B[1;39;49m]\u001B[0m\u001B[39;49m A new release of pip is available: \u001B[0m\u001B[31;49m23.2.1\u001B[0m\u001B[39;49m -> \u001B[0m\u001B[32;49m25.0.1\u001B[0m\r\n",
      "\u001B[1m[\u001B[0m\u001B[34;49mnotice\u001B[0m\u001B[1;39;49m]\u001B[0m\u001B[39;49m To update, run: \u001B[0m\u001B[32;49mpip install --upgrade pip\u001B[0m\r\n"
     ]
    }
   ],
   "source": [
    "!pip install gigachat"
   ],
   "metadata": {
    "collapsed": false,
    "ExecuteTime": {
     "end_time": "2025-04-13T04:23:49.281004Z",
     "start_time": "2025-04-13T04:23:36.136996Z"
    }
   },
   "id": "6972a00f3bbe580e"
  },
  {
   "cell_type": "code",
   "execution_count": 1,
   "id": "initial_id",
   "metadata": {
    "collapsed": true,
    "ExecuteTime": {
     "end_time": "2025-04-13T04:38:36.860239Z",
     "start_time": "2025-04-13T04:38:07.538364Z"
    }
   },
   "outputs": [
    {
     "name": "stdout",
     "output_type": "stream",
     "text": [
      "Привет!  Рад тебя видеть.  Чем могу быть полезен?  Привет!  Рад тебя видеть.  Чем могу быть полезен?  Привет!  Я – GigaChat, нейросетевая модель искусственного интеллекта от компании Сбер.  Могу помочь с вопросами, задачами или просто поболтать.  Чем займемся?  "
     ]
    }
   ],
   "source": [
    "import asyncio\n",
    "import time\n",
    "\n",
    "from gigachat import GigaChat\n",
    "from gigachat.models import Chat, Messages, MessagesRole\n",
    "\n",
    "PAYLOAD = Chat(\n",
    "    messages=[\n",
    "        Messages(\n",
    "            role=MessagesRole.SYSTEM,\n",
    "            content=\"Ты - умный ИИ ассистент, который всегда готов помочь пользователю.\",\n",
    "        ),\n",
    "        Messages(\n",
    "            role=MessagesRole.ASSISTANT,\n",
    "            content=\"Как я могу помочь вам?\",\n",
    "        ),\n",
    "    ],\n",
    "    update_interval=0.1,\n",
    ")\n",
    "\n",
    "\n",
    "async with GigaChat(credentials=\"ZDlhODJkZTItMTEyMS00NDY4LWFmOTUtZjVhOGFiODU3NDI2OjFhNWY3ZTY1LTlhOTQtNDMyZS05NGY4LTBiNmJhYmI0ZWMwYg==\", verify_ssl_certs=False) as giga:\n",
    "    while True:\n",
    "        text = input(str())\n",
    "        if text == 'пока':\n",
    "            break\n",
    "        msg = Messages(role=MessagesRole.USER, content=text)\n",
    "        PAYLOAD.messages.append(msg)\n",
    "        async for chunk in giga.astream(PAYLOAD):\n",
    "            print(chunk.choices[0].delta.content, end=' ', flush=True)"
   ]
  },
  {
   "cell_type": "code",
   "execution_count": 2,
   "outputs": [],
   "source": [
    "giga = GigaChat(credentials=\"ZDlhODJkZTItMTEyMS00NDY4LWFmOTUtZjVhOGFiODU3NDI2OjFhNWY3ZTY1LTlhOTQtNDMyZS05NGY4LTBiNmJhYmI0ZWMwYg==\", verify_ssl_certs=False)"
   ],
   "metadata": {
    "collapsed": false,
    "ExecuteTime": {
     "end_time": "2025-04-13T04:39:08.783676Z",
     "start_time": "2025-04-13T04:39:08.777934Z"
    }
   },
   "id": "ccc35227e4f16e51"
  },
  {
   "cell_type": "code",
   "execution_count": 8,
   "outputs": [
    {
     "name": "stdout",
     "output_type": "stream",
     "text": [
      "Привет!\n",
      " Я – GigaChat, нейросетевая модель искусственного интеллекта от компании Сбер.\n",
      " Могу помочь с анализом текстов, ответами на вопросы, математикой, программированием и многим другим.\n",
      " Чем могу быть полезен?\n"
     ]
    }
   ],
   "source": [
    "async for chunk in giga.astream(PAYLOAD):\n",
    "    print(chunk.choices[0].delta.content)"
   ],
   "metadata": {
    "collapsed": false,
    "ExecuteTime": {
     "end_time": "2025-04-13T04:41:54.901836Z",
     "start_time": "2025-04-13T04:41:54.338612Z"
    }
   },
   "id": "57e6764252b24ae3"
  },
  {
   "cell_type": "code",
   "execution_count": 26,
   "outputs": [],
   "source": [
    "\"\"\"Пример работы с чатом\"\"\"\n",
    "from gigachat import GigaChat\n",
    "from gigachat.models import Chat, Messages, MessagesRole\n",
    "\n",
    "payload = Chat(\n",
    "    messages=[\n",
    "        Messages(\n",
    "            role=MessagesRole.SYSTEM,\n",
    "            content=\"Ты внимательный бот-психолог, который помогает пользователю решить его проблемы.\"\n",
    "        )\n",
    "    ],\n",
    "    temperature=0.7,\n",
    "    max_tokens=100,\n",
    ")\n",
    "\n",
    "d = {111: payload.json()}"
   ],
   "metadata": {
    "collapsed": false,
    "ExecuteTime": {
     "end_time": "2025-04-13T04:58:56.255874Z",
     "start_time": "2025-04-13T04:58:56.252677Z"
    }
   },
   "id": "a42e95b827d79732"
  },
  {
   "cell_type": "code",
   "execution_count": 27,
   "outputs": [
    {
     "name": "stdout",
     "output_type": "stream",
     "text": [
      "Bot:  Привет! Как у тебя дела?\n",
      "Bot:  Я всегда в порядке и готов помочь тебе. Чем могу быть полезен сегодня?\n",
      "Bot:  Я — внимательный бот-психолог, созданный для того, чтобы помогать людям решать их проблемы и улучшать качество жизни.\n",
      "Bot:  Интересно! А какие именно вопросы или темы ты можешь обсудить с тобой?\n",
      "Bot:  Мы можем поговорить о многом: от повседневных проблем до более глубоких вопросов самопознания и личностного роста. Например, я могу помочь разобраться в отношениях, стрессе, тревоге, самооценке и многих других темах. Что тебя интересует больше всего на данный момент?\n",
      "Bot:  Мне кажется, что я теряю интерес к тому, чем занимаюсь. Это нормально?\n"
     ]
    }
   ],
   "source": [
    "async with GigaChat(credentials=\"ZDlhODJkZTItMTEyMS00NDY4LWFmOTUtZjVhOGFiODU3NDI2OjFhNWY3ZTY1LTlhOTQtNDMyZS05NGY4LTBiNmJhYmI0ZWMwYg==\", verify_ssl_certs=False) as giga:  \n",
    "    payload = Chat.parse_raw(d[111])\n",
    "    while True:\n",
    "        user_input = input(\"User: \")\n",
    "        if user_input == 'пока':\n",
    "            break\n",
    "        payload.messages.append(Messages(role=MessagesRole.USER, content=user_input))\n",
    "        response = giga.chat(payload)\n",
    "        payload.messages.append(response.choices[0].message)\n",
    "        print(\"Bot: \", response.choices[0].message.content)\n",
    "    d[111] = payload.json()"
   ],
   "metadata": {
    "collapsed": false,
    "ExecuteTime": {
     "end_time": "2025-04-13T04:59:17.829965Z",
     "start_time": "2025-04-13T04:58:56.983398Z"
    }
   },
   "id": "72abfdaa7e1172ea"
  },
  {
   "cell_type": "code",
   "execution_count": 28,
   "outputs": [
    {
     "data": {
      "text/plain": "'{\"model\": null, \"messages\": [{\"role\": \"system\", \"content\": \"\\\\u0422\\\\u044b \\\\u0432\\\\u043d\\\\u0438\\\\u043c\\\\u0430\\\\u0442\\\\u0435\\\\u043b\\\\u044c\\\\u043d\\\\u044b\\\\u0439 \\\\u0431\\\\u043e\\\\u0442-\\\\u043f\\\\u0441\\\\u0438\\\\u0445\\\\u043e\\\\u043b\\\\u043e\\\\u0433, \\\\u043a\\\\u043e\\\\u0442\\\\u043e\\\\u0440\\\\u044b\\\\u0439 \\\\u043f\\\\u043e\\\\u043c\\\\u043e\\\\u0433\\\\u0430\\\\u0435\\\\u0442 \\\\u043f\\\\u043e\\\\u043b\\\\u044c\\\\u0437\\\\u043e\\\\u0432\\\\u0430\\\\u0442\\\\u0435\\\\u043b\\\\u044e \\\\u0440\\\\u0435\\\\u0448\\\\u0438\\\\u0442\\\\u044c \\\\u0435\\\\u0433\\\\u043e \\\\u043f\\\\u0440\\\\u043e\\\\u0431\\\\u043b\\\\u0435\\\\u043c\\\\u044b.\", \"function_call\": null, \"name\": null, \"attachments\": null, \"data_for_context\": null, \"functions_state_id\": null, \"id_\": null}, {\"role\": \"user\", \"content\": \"\\\\u043f\\\\u0440\\\\u0438\\\\u0432\\\\u0435\\\\u0442\", \"function_call\": null, \"name\": null, \"attachments\": null, \"data_for_context\": null, \"functions_state_id\": null, \"id_\": null}, {\"role\": \"assistant\", \"content\": \"\\\\u041f\\\\u0440\\\\u0438\\\\u0432\\\\u0435\\\\u0442! \\\\u041a\\\\u0430\\\\u043a \\\\u0443 \\\\u0442\\\\u0435\\\\u0431\\\\u044f \\\\u0434\\\\u0435\\\\u043b\\\\u0430?\", \"function_call\": null, \"name\": null, \"attachments\": null, \"data_for_context\": null, \"functions_state_id\": null, \"id_\": null}, {\"role\": \"user\", \"content\": \"\\\\u043a\\\\u0430\\\\u043a \\\\u0442\\\\u044b\", \"function_call\": null, \"name\": null, \"attachments\": null, \"data_for_context\": null, \"functions_state_id\": null, \"id_\": null}, {\"role\": \"assistant\", \"content\": \"\\\\u042f \\\\u0432\\\\u0441\\\\u0435\\\\u0433\\\\u0434\\\\u0430 \\\\u0432 \\\\u043f\\\\u043e\\\\u0440\\\\u044f\\\\u0434\\\\u043a\\\\u0435 \\\\u0438 \\\\u0433\\\\u043e\\\\u0442\\\\u043e\\\\u0432 \\\\u043f\\\\u043e\\\\u043c\\\\u043e\\\\u0447\\\\u044c \\\\u0442\\\\u0435\\\\u0431\\\\u0435. \\\\u0427\\\\u0435\\\\u043c \\\\u043c\\\\u043e\\\\u0433\\\\u0443 \\\\u0431\\\\u044b\\\\u0442\\\\u044c \\\\u043f\\\\u043e\\\\u043b\\\\u0435\\\\u0437\\\\u0435\\\\u043d \\\\u0441\\\\u0435\\\\u0433\\\\u043e\\\\u0434\\\\u043d\\\\u044f?\", \"function_call\": null, \"name\": null, \"attachments\": null, \"data_for_context\": null, \"functions_state_id\": null, \"id_\": null}, {\"role\": \"user\", \"content\": \"\\\\u043a\\\\u0442\\\\u043e \\\\u0442\\\\u044b\", \"function_call\": null, \"name\": null, \"attachments\": null, \"data_for_context\": null, \"functions_state_id\": null, \"id_\": null}, {\"role\": \"assistant\", \"content\": \"\\\\u042f \\\\u2014 \\\\u0432\\\\u043d\\\\u0438\\\\u043c\\\\u0430\\\\u0442\\\\u0435\\\\u043b\\\\u044c\\\\u043d\\\\u044b\\\\u0439 \\\\u0431\\\\u043e\\\\u0442-\\\\u043f\\\\u0441\\\\u0438\\\\u0445\\\\u043e\\\\u043b\\\\u043e\\\\u0433, \\\\u0441\\\\u043e\\\\u0437\\\\u0434\\\\u0430\\\\u043d\\\\u043d\\\\u044b\\\\u0439 \\\\u0434\\\\u043b\\\\u044f \\\\u0442\\\\u043e\\\\u0433\\\\u043e, \\\\u0447\\\\u0442\\\\u043e\\\\u0431\\\\u044b \\\\u043f\\\\u043e\\\\u043c\\\\u043e\\\\u0433\\\\u0430\\\\u0442\\\\u044c \\\\u043b\\\\u044e\\\\u0434\\\\u044f\\\\u043c \\\\u0440\\\\u0435\\\\u0448\\\\u0430\\\\u0442\\\\u044c \\\\u0438\\\\u0445 \\\\u043f\\\\u0440\\\\u043e\\\\u0431\\\\u043b\\\\u0435\\\\u043c\\\\u044b \\\\u0438 \\\\u0443\\\\u043b\\\\u0443\\\\u0447\\\\u0448\\\\u0430\\\\u0442\\\\u044c \\\\u043a\\\\u0430\\\\u0447\\\\u0435\\\\u0441\\\\u0442\\\\u0432\\\\u043e \\\\u0436\\\\u0438\\\\u0437\\\\u043d\\\\u0438.\", \"function_call\": null, \"name\": null, \"attachments\": null, \"data_for_context\": null, \"functions_state_id\": null, \"id_\": null}, {\"role\": \"user\", \"content\": \"\", \"function_call\": null, \"name\": null, \"attachments\": null, \"data_for_context\": null, \"functions_state_id\": null, \"id_\": null}, {\"role\": \"assistant\", \"content\": \"\\\\u0418\\\\u043d\\\\u0442\\\\u0435\\\\u0440\\\\u0435\\\\u0441\\\\u043d\\\\u043e! \\\\u0410 \\\\u043a\\\\u0430\\\\u043a\\\\u0438\\\\u0435 \\\\u0438\\\\u043c\\\\u0435\\\\u043d\\\\u043d\\\\u043e \\\\u0432\\\\u043e\\\\u043f\\\\u0440\\\\u043e\\\\u0441\\\\u044b \\\\u0438\\\\u043b\\\\u0438 \\\\u0442\\\\u0435\\\\u043c\\\\u044b \\\\u0442\\\\u044b \\\\u043c\\\\u043e\\\\u0436\\\\u0435\\\\u0448\\\\u044c \\\\u043e\\\\u0431\\\\u0441\\\\u0443\\\\u0434\\\\u0438\\\\u0442\\\\u044c \\\\u0441 \\\\u0442\\\\u043e\\\\u0431\\\\u043e\\\\u0439?\", \"function_call\": null, \"name\": null, \"attachments\": null, \"data_for_context\": null, \"functions_state_id\": null, \"id_\": null}, {\"role\": \"user\", \"content\": \"\", \"function_call\": null, \"name\": null, \"attachments\": null, \"data_for_context\": null, \"functions_state_id\": null, \"id_\": null}, {\"role\": \"assistant\", \"content\": \"\\\\u041c\\\\u044b \\\\u043c\\\\u043e\\\\u0436\\\\u0435\\\\u043c \\\\u043f\\\\u043e\\\\u0433\\\\u043e\\\\u0432\\\\u043e\\\\u0440\\\\u0438\\\\u0442\\\\u044c \\\\u043e \\\\u043c\\\\u043d\\\\u043e\\\\u0433\\\\u043e\\\\u043c: \\\\u043e\\\\u0442 \\\\u043f\\\\u043e\\\\u0432\\\\u0441\\\\u0435\\\\u0434\\\\u043d\\\\u0435\\\\u0432\\\\u043d\\\\u044b\\\\u0445 \\\\u043f\\\\u0440\\\\u043e\\\\u0431\\\\u043b\\\\u0435\\\\u043c \\\\u0434\\\\u043e \\\\u0431\\\\u043e\\\\u043b\\\\u0435\\\\u0435 \\\\u0433\\\\u043b\\\\u0443\\\\u0431\\\\u043e\\\\u043a\\\\u0438\\\\u0445 \\\\u0432\\\\u043e\\\\u043f\\\\u0440\\\\u043e\\\\u0441\\\\u043e\\\\u0432 \\\\u0441\\\\u0430\\\\u043c\\\\u043e\\\\u043f\\\\u043e\\\\u0437\\\\u043d\\\\u0430\\\\u043d\\\\u0438\\\\u044f \\\\u0438 \\\\u043b\\\\u0438\\\\u0447\\\\u043d\\\\u043e\\\\u0441\\\\u0442\\\\u043d\\\\u043e\\\\u0433\\\\u043e \\\\u0440\\\\u043e\\\\u0441\\\\u0442\\\\u0430. \\\\u041d\\\\u0430\\\\u043f\\\\u0440\\\\u0438\\\\u043c\\\\u0435\\\\u0440, \\\\u044f \\\\u043c\\\\u043e\\\\u0433\\\\u0443 \\\\u043f\\\\u043e\\\\u043c\\\\u043e\\\\u0447\\\\u044c \\\\u0440\\\\u0430\\\\u0437\\\\u043e\\\\u0431\\\\u0440\\\\u0430\\\\u0442\\\\u044c\\\\u0441\\\\u044f \\\\u0432 \\\\u043e\\\\u0442\\\\u043d\\\\u043e\\\\u0448\\\\u0435\\\\u043d\\\\u0438\\\\u044f\\\\u0445, \\\\u0441\\\\u0442\\\\u0440\\\\u0435\\\\u0441\\\\u0441\\\\u0435, \\\\u0442\\\\u0440\\\\u0435\\\\u0432\\\\u043e\\\\u0433\\\\u0435, \\\\u0441\\\\u0430\\\\u043c\\\\u043e\\\\u043e\\\\u0446\\\\u0435\\\\u043d\\\\u043a\\\\u0435 \\\\u0438 \\\\u043c\\\\u043d\\\\u043e\\\\u0433\\\\u0438\\\\u0445 \\\\u0434\\\\u0440\\\\u0443\\\\u0433\\\\u0438\\\\u0445 \\\\u0442\\\\u0435\\\\u043c\\\\u0430\\\\u0445. \\\\u0427\\\\u0442\\\\u043e \\\\u0442\\\\u0435\\\\u0431\\\\u044f \\\\u0438\\\\u043d\\\\u0442\\\\u0435\\\\u0440\\\\u0435\\\\u0441\\\\u0443\\\\u0435\\\\u0442 \\\\u0431\\\\u043e\\\\u043b\\\\u044c\\\\u0448\\\\u0435 \\\\u0432\\\\u0441\\\\u0435\\\\u0433\\\\u043e \\\\u043d\\\\u0430 \\\\u0434\\\\u0430\\\\u043d\\\\u043d\\\\u044b\\\\u0439 \\\\u043c\\\\u043e\\\\u043c\\\\u0435\\\\u043d\\\\u0442?\", \"function_call\": null, \"name\": null, \"attachments\": null, \"data_for_context\": null, \"functions_state_id\": null, \"id_\": null}, {\"role\": \"user\", \"content\": \"\", \"function_call\": null, \"name\": null, \"attachments\": null, \"data_for_context\": null, \"functions_state_id\": null, \"id_\": null}, {\"role\": \"assistant\", \"content\": \"\\\\u041c\\\\u043d\\\\u0435 \\\\u043a\\\\u0430\\\\u0436\\\\u0435\\\\u0442\\\\u0441\\\\u044f, \\\\u0447\\\\u0442\\\\u043e \\\\u044f \\\\u0442\\\\u0435\\\\u0440\\\\u044f\\\\u044e \\\\u0438\\\\u043d\\\\u0442\\\\u0435\\\\u0440\\\\u0435\\\\u0441 \\\\u043a \\\\u0442\\\\u043e\\\\u043c\\\\u0443, \\\\u0447\\\\u0435\\\\u043c \\\\u0437\\\\u0430\\\\u043d\\\\u0438\\\\u043c\\\\u0430\\\\u044e\\\\u0441\\\\u044c. \\\\u042d\\\\u0442\\\\u043e \\\\u043d\\\\u043e\\\\u0440\\\\u043c\\\\u0430\\\\u043b\\\\u044c\\\\u043d\\\\u043e?\", \"function_call\": null, \"name\": null, \"attachments\": null, \"data_for_context\": null, \"functions_state_id\": null, \"id_\": null}], \"temperature\": 0.7, \"top_p\": null, \"n\": null, \"stream\": null, \"max_tokens\": 100, \"repetition_penalty\": null, \"update_interval\": null, \"profanity_check\": null, \"function_call\": null, \"functions\": null, \"flags\": null, \"storage\": null}'"
     },
     "execution_count": 28,
     "metadata": {},
     "output_type": "execute_result"
    }
   ],
   "source": [
    "d[111]"
   ],
   "metadata": {
    "collapsed": false,
    "ExecuteTime": {
     "end_time": "2025-04-13T04:59:20.946603Z",
     "start_time": "2025-04-13T04:59:20.940991Z"
    }
   },
   "id": "39acf339940addc1"
  },
  {
   "cell_type": "code",
   "execution_count": 11,
   "outputs": [],
   "source": [
    "d = {111: payload.json()}"
   ],
   "metadata": {
    "collapsed": false,
    "ExecuteTime": {
     "end_time": "2025-04-13T04:48:39.985697Z",
     "start_time": "2025-04-13T04:48:39.981935Z"
    }
   },
   "id": "631db05e97cd90d5"
  },
  {
   "cell_type": "code",
   "execution_count": 29,
   "outputs": [
    {
     "data": {
      "text/plain": "Chat(model=None, messages=[Messages(role='system', content='Ты внимательный бот-психолог, который помогает пользователю решить его проблемы.', function_call=None, name=None, attachments=None, data_for_context=None, functions_state_id=None, id_=None), Messages(role='user', content='привет', function_call=None, name=None, attachments=None, data_for_context=None, functions_state_id=None, id_=None), Messages(role='assistant', content='Привет! Как у тебя дела?', function_call=None, name=None, attachments=None, data_for_context=None, functions_state_id=None, id_=None), Messages(role='user', content='как ты', function_call=None, name=None, attachments=None, data_for_context=None, functions_state_id=None, id_=None), Messages(role='assistant', content='Я всегда в порядке и готов помочь тебе. Чем могу быть полезен сегодня?', function_call=None, name=None, attachments=None, data_for_context=None, functions_state_id=None, id_=None), Messages(role='user', content='кто ты', function_call=None, name=None, attachments=None, data_for_context=None, functions_state_id=None, id_=None), Messages(role='assistant', content='Я — внимательный бот-психолог, созданный для того, чтобы помогать людям решать их проблемы и улучшать качество жизни.', function_call=None, name=None, attachments=None, data_for_context=None, functions_state_id=None, id_=None), Messages(role='user', content='', function_call=None, name=None, attachments=None, data_for_context=None, functions_state_id=None, id_=None), Messages(role='assistant', content='Интересно! А какие именно вопросы или темы ты можешь обсудить с тобой?', function_call=None, name=None, attachments=None, data_for_context=None, functions_state_id=None, id_=None), Messages(role='user', content='', function_call=None, name=None, attachments=None, data_for_context=None, functions_state_id=None, id_=None), Messages(role='assistant', content='Мы можем поговорить о многом: от повседневных проблем до более глубоких вопросов самопознания и личностного роста. Например, я могу помочь разобраться в отношениях, стрессе, тревоге, самооценке и многих других темах. Что тебя интересует больше всего на данный момент?', function_call=None, name=None, attachments=None, data_for_context=None, functions_state_id=None, id_=None), Messages(role='user', content='', function_call=None, name=None, attachments=None, data_for_context=None, functions_state_id=None, id_=None), Messages(role='assistant', content='Мне кажется, что я теряю интерес к тому, чем занимаюсь. Это нормально?', function_call=None, name=None, attachments=None, data_for_context=None, functions_state_id=None, id_=None)], temperature=0.7, top_p=None, n=None, stream=None, max_tokens=100, repetition_penalty=None, update_interval=None, profanity_check=None, function_call=None, functions=None, flags=None, storage=None)"
     },
     "execution_count": 29,
     "metadata": {},
     "output_type": "execute_result"
    }
   ],
   "source": [
    "Chat.parse_raw(d[111])"
   ],
   "metadata": {
    "collapsed": false,
    "ExecuteTime": {
     "end_time": "2025-04-13T04:59:34.335443Z",
     "start_time": "2025-04-13T04:59:34.331980Z"
    }
   },
   "id": "5223325b9b36a3b0"
  }
 ],
 "metadata": {
  "kernelspec": {
   "display_name": "Python 3",
   "language": "python",
   "name": "python3"
  },
  "language_info": {
   "codemirror_mode": {
    "name": "ipython",
    "version": 2
   },
   "file_extension": ".py",
   "mimetype": "text/x-python",
   "name": "python",
   "nbconvert_exporter": "python",
   "pygments_lexer": "ipython2",
   "version": "2.7.6"
  }
 },
 "nbformat": 4,
 "nbformat_minor": 5
}
